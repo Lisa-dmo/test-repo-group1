{
  "nbformat": 4,
  "nbformat_minor": 0,
  "metadata": {
    "colab": {
      "provenance": []
    },
    "kernelspec": {
      "name": "python3",
      "display_name": "Python 3"
    },
    "language_info": {
      "name": "python"
    }
  },
  "cells": [
    {
      "cell_type": "code",
      "execution_count": null,
      "metadata": {
        "colab": {
          "base_uri": "https://localhost:8080/"
        },
        "id": "Lugq7egvDJM7",
        "outputId": "dd799cce-e48d-4c18-cec1-14344b83f16e"
      },
      "outputs": [
        {
          "output_type": "stream",
          "name": "stdout",
          "text": [
            "10\n",
            "lisa\n",
            "London Paris\n"
          ]
        }
      ],
      "source": [
        "print(10)\n",
        "print(\"lisa\")\n",
        "print(\"London\",\"Paris\")\n"
      ]
    },
    {
      "cell_type": "code",
      "source": [
        "print(10*2)\n"
      ],
      "metadata": {
        "colab": {
          "base_uri": "https://localhost:8080/"
        },
        "id": "Zjpq63kHEWUj",
        "outputId": "e9527eb5-1bc0-4217-ccd1-0bdd56ab7318"
      },
      "execution_count": null,
      "outputs": [
        {
          "output_type": "stream",
          "name": "stdout",
          "text": [
            "20\n"
          ]
        }
      ]
    },
    {
      "cell_type": "code",
      "source": [
        "input(\"Enter your name:\")\n"
      ],
      "metadata": {
        "colab": {
          "base_uri": "https://localhost:8080/",
          "height": 53
        },
        "id": "IebcjN6hEwTN",
        "outputId": "c92dcafe-21b9-4c1a-916b-3f6471f86fd7"
      },
      "execution_count": null,
      "outputs": [
        {
          "name": "stdout",
          "output_type": "stream",
          "text": [
            "Enter your name:Lisa\n"
          ]
        },
        {
          "output_type": "execute_result",
          "data": {
            "text/plain": [
              "'Lisa'"
            ],
            "application/vnd.google.colaboratory.intrinsic+json": {
              "type": "string"
            }
          },
          "metadata": {},
          "execution_count": 26
        }
      ]
    },
    {
      "cell_type": "code",
      "source": [
        "# Print number 10.10\n",
        "print(10.10)"
      ],
      "metadata": {
        "colab": {
          "base_uri": "https://localhost:8080/"
        },
        "id": "_TUe8fbDFMjN",
        "outputId": "265ba913-7985-473c-f36f-c972b67708e4"
      },
      "execution_count": null,
      "outputs": [
        {
          "output_type": "stream",
          "name": "stdout",
          "text": [
            "10.1\n"
          ]
        }
      ]
    },
    {
      "cell_type": "code",
      "source": [
        "x = 10.20\n",
        "name = \"Lisa\"\n",
        "print(x)\n",
        "print(name)\n",
        "\n",
        "age= 22\n",
        "last name = \"Jones\""
      ],
      "metadata": {
        "colab": {
          "base_uri": "https://localhost:8080/"
        },
        "id": "AfjlENj_GJuG",
        "outputId": "a21d8a26-fae6-43d4-9358-e047721c23e2"
      },
      "execution_count": null,
      "outputs": [
        {
          "output_type": "stream",
          "name": "stdout",
          "text": [
            "10.2\n",
            "Lisa\n"
          ]
        }
      ]
    },
    {
      "cell_type": "code",
      "source": [
        "# Ask the user what is their city\n",
        "# Ask the user their first name\n",
        "# Print the user city\n",
        "# * Use a variable\n",
        "\n",
        "city = input(\"Where are you from? \")\n",
        "name = input(\"What is your first name? \")\n",
        "print(name,city)"
      ],
      "metadata": {
        "colab": {
          "base_uri": "https://localhost:8080/"
        },
        "id": "3XQpvaL6GxbK",
        "outputId": "5b1698d4-3b61-42cc-91ca-d7c50d889ff6"
      },
      "execution_count": null,
      "outputs": [
        {
          "output_type": "stream",
          "name": "stdout",
          "text": [
            "Where are you from? London\n",
            "What is your first name? Lisa\n",
            "Lisa London\n"
          ]
        }
      ]
    },
    {
      "cell_type": "code",
      "source": [
        "x = float(input(\"Enter a number: \"))\n",
        "y= int(input(\"Enter a second number\"))\n",
        "print(\"Result is\",x+y)\n"
      ],
      "metadata": {
        "colab": {
          "base_uri": "https://localhost:8080/"
        },
        "id": "Bz9AlbgzIT-e",
        "outputId": "7f7edcfe-75df-4b96-e4a8-02602b7b76f5"
      },
      "execution_count": null,
      "outputs": [
        {
          "output_type": "stream",
          "name": "stdout",
          "text": [
            "Enter a number: 34\n",
            "Enter a second number12\n",
            "Result is 46.0\n"
          ]
        }
      ]
    },
    {
      "cell_type": "code",
      "source": [
        "# Create a program, ask the user to give you 3 integers.\n",
        "# Then find the product of the values (a*b*c)\n",
        "# 1 2 3\n",
        "# Print the result in the form The product is : 6\n",
        "a=int(input(\"Enter a number: \"))\n",
        "b=int(input(\"Enter a number: \"))\n",
        "c=int(input(\"Enter a number: \"))\n",
        "\n",
        "print(\"The product is:\", a*b*c)"
      ],
      "metadata": {
        "colab": {
          "base_uri": "https://localhost:8080/"
        },
        "id": "EbQVs3sRKBXt",
        "outputId": "932f4230-1df2-43a5-c5be-901c56a5c8aa"
      },
      "execution_count": null,
      "outputs": [
        {
          "output_type": "stream",
          "name": "stdout",
          "text": [
            "Enter a number: 3\n",
            "Enter a number: 2\n",
            "Enter a number: 1\n",
            "The product is: 6\n"
          ]
        }
      ]
    },
    {
      "cell_type": "code",
      "source": [
        "# Ask the user to enter two numbers\n",
        "# Divide the numbersb(float)\n",
        "#a\n",
        "#b\n",
        "#a/b\n",
        "a=int(input(\"Enter a number: \"))\n",
        "b=int(input(\"Enter a number: \"))\n",
        "print(a/b)"
      ],
      "metadata": {
        "colab": {
          "base_uri": "https://localhost:8080/",
          "height": 216
        },
        "id": "kTfg7Tj7LOXc",
        "outputId": "a5bffcb5-cd5b-49ae-cc66-406510409d12"
      },
      "execution_count": null,
      "outputs": [
        {
          "name": "stdout",
          "output_type": "stream",
          "text": [
            "Enter a number: 6\n",
            "Enter a number: 0\n"
          ]
        },
        {
          "output_type": "error",
          "ename": "ZeroDivisionError",
          "evalue": "division by zero",
          "traceback": [
            "\u001b[0;31m---------------------------------------------------------------------------\u001b[0m",
            "\u001b[0;31mZeroDivisionError\u001b[0m                         Traceback (most recent call last)",
            "\u001b[0;32m<ipython-input-31-b1d4f70e5016>\u001b[0m in \u001b[0;36m<cell line: 8>\u001b[0;34m()\u001b[0m\n\u001b[1;32m      6\u001b[0m \u001b[0ma\u001b[0m\u001b[0;34m=\u001b[0m\u001b[0mint\u001b[0m\u001b[0;34m(\u001b[0m\u001b[0minput\u001b[0m\u001b[0;34m(\u001b[0m\u001b[0;34m\"Enter a number: \"\u001b[0m\u001b[0;34m)\u001b[0m\u001b[0;34m)\u001b[0m\u001b[0;34m\u001b[0m\u001b[0;34m\u001b[0m\u001b[0m\n\u001b[1;32m      7\u001b[0m \u001b[0mb\u001b[0m\u001b[0;34m=\u001b[0m\u001b[0mint\u001b[0m\u001b[0;34m(\u001b[0m\u001b[0minput\u001b[0m\u001b[0;34m(\u001b[0m\u001b[0;34m\"Enter a number: \"\u001b[0m\u001b[0;34m)\u001b[0m\u001b[0;34m)\u001b[0m\u001b[0;34m\u001b[0m\u001b[0;34m\u001b[0m\u001b[0m\n\u001b[0;32m----> 8\u001b[0;31m \u001b[0mprint\u001b[0m\u001b[0;34m(\u001b[0m\u001b[0ma\u001b[0m\u001b[0;34m/\u001b[0m\u001b[0mb\u001b[0m\u001b[0;34m)\u001b[0m\u001b[0;34m\u001b[0m\u001b[0;34m\u001b[0m\u001b[0m\n\u001b[0m",
            "\u001b[0;31mZeroDivisionError\u001b[0m: division by zero"
          ]
        }
      ]
    },
    {
      "cell_type": "code",
      "source": [
        "x = float(input(\"Enter a number\"))\n",
        "y = float(input(\"Enter a number\"))\n",
        "\n",
        "if y==0:\n",
        "  print(\"I cannot divide\")\n",
        "else:\n",
        "  print(x/y)\n"
      ],
      "metadata": {
        "colab": {
          "base_uri": "https://localhost:8080/"
        },
        "id": "yIaggTvKMamn",
        "outputId": "c86f2d3c-985c-4fbd-dbe3-535769513729"
      },
      "execution_count": null,
      "outputs": [
        {
          "output_type": "stream",
          "name": "stdout",
          "text": [
            "Enter a number435\n",
            "Enter a number34\n",
            "12.794117647058824\n"
          ]
        }
      ]
    },
    {
      "cell_type": "code",
      "source": [
        "city = input(\"Enter a city: \")\n",
        "\n",
        "if city ==\"Paris\":\n",
        "  print(\"Bonjour\")\n",
        "  print(10)\n",
        "else:\n",
        "  print(\"Hi!\")\n",
        "  print(100)\n"
      ],
      "metadata": {
        "colab": {
          "base_uri": "https://localhost:8080/"
        },
        "id": "DWt3XbeuNIE4",
        "outputId": "3008849f-260d-4b5c-f1eb-8ebc1c76c98d"
      },
      "execution_count": null,
      "outputs": [
        {
          "output_type": "stream",
          "name": "stdout",
          "text": [
            "Enter a city: Paris\n",
            "Bonjour\n",
            "10\n"
          ]
        }
      ]
    },
    {
      "cell_type": "markdown",
      "source": [
        "Exercise 1\n",
        "\n",
        "Create a program to ask the user their name and their age.\n",
        "\n",
        "If the user is over 18, then print you are an adult. If the user is less than 18 print that you are a kid."
      ],
      "metadata": {
        "id": "xa9yZ4GgR2Q3"
      }
    },
    {
      "cell_type": "code",
      "source": [
        "name = input(\"What is your name? \")\n",
        "age = int(input(\"what is your age? \"))\n",
        "if age>18:\n",
        "  print(\"You are an adult\")\n",
        "else:\n",
        "  print(\"you are a kid!\")"
      ],
      "metadata": {
        "colab": {
          "base_uri": "https://localhost:8080/"
        },
        "id": "y1OPSWdaSKrQ",
        "outputId": "963d1438-4c70-4b45-bfab-6f4956a9d81c"
      },
      "execution_count": null,
      "outputs": [
        {
          "output_type": "stream",
          "name": "stdout",
          "text": [
            "What is your name? Lisa\n",
            "what is your age? 19\n",
            "You are an adult\n"
          ]
        }
      ]
    },
    {
      "cell_type": "code",
      "source": [
        "# > < >= <= <> != ( not equal)"
      ],
      "metadata": {
        "id": "1-zG0IDzT3Ba"
      },
      "execution_count": null,
      "outputs": []
    },
    {
      "cell_type": "markdown",
      "source": [
        "Create a program, ask the user to enter two numbers.\n",
        "\n",
        "Print the maximum number."
      ],
      "metadata": {
        "id": "vKx-mqgdUUjX"
      }
    },
    {
      "cell_type": "code",
      "source": [
        "a= int(input(\"Enter a number: \"))\n",
        "b= int(input(\"Enter a number: \"))\n",
        "\n",
        "if a>b:\n",
        "  print(a)\n",
        "else:\n",
        "  print(b)"
      ],
      "metadata": {
        "colab": {
          "base_uri": "https://localhost:8080/"
        },
        "id": "raSL_BQLUm7V",
        "outputId": "bd3f37d8-1b1d-4b8b-b426-e8555c2cbe62"
      },
      "execution_count": null,
      "outputs": [
        {
          "output_type": "stream",
          "name": "stdout",
          "text": [
            "Enter a number: 10\n",
            "Enter a number: 10\n",
            "10\n"
          ]
        }
      ]
    },
    {
      "cell_type": "code",
      "source": [
        "x = 10\n",
        "y = 20\n",
        "\n",
        "if x>y:\n",
        "  print(\"x is greater than y\")\n",
        "elif x<y:\n",
        "  print(\"x is less than y\")\n",
        "else:\n",
        "  print(\"x is equal to y\")"
      ],
      "metadata": {
        "colab": {
          "base_uri": "https://localhost:8080/"
        },
        "id": "q1N61CtwVweT",
        "outputId": "fb970a81-7b33-4779-805f-3d03069ee9aa"
      },
      "execution_count": null,
      "outputs": [
        {
          "output_type": "stream",
          "name": "stdout",
          "text": [
            "x is less than y\n"
          ]
        }
      ]
    },
    {
      "cell_type": "markdown",
      "source": [
        "create a program to ask the user to enter a score.\n",
        "* if the score is less than 50 you failed.\n",
        "* if the score is between than 50 and 70 is pass.\n",
        "* if the score is greater than 70 is distinction."
      ],
      "metadata": {
        "id": "YbaIsBvWWZ_D"
      }
    },
    {
      "cell_type": "code",
      "source": [
        "score = int(input(\"what is the score? \"))\n",
        "\n",
        "if score>0 and score<50:\n",
        "  print(\"Fail\")\n",
        "elif score>=50 and score<70:\n",
        "  print(\"Pass\")\n",
        "elif score>=70 and score<=100:\n",
        "  print(\"Distinction\")\n",
        "else:\n",
        "  print(\"Something is wrong!\")"
      ],
      "metadata": {
        "colab": {
          "base_uri": "https://localhost:8080/"
        },
        "id": "F3wgsKfLWtVA",
        "outputId": "75cb2f0f-c1ea-421f-b8af-baf677c83a14"
      },
      "execution_count": null,
      "outputs": [
        {
          "output_type": "stream",
          "name": "stdout",
          "text": [
            "what is the score? 70\n",
            "Distinction\n"
          ]
        }
      ]
    }
  ]
}