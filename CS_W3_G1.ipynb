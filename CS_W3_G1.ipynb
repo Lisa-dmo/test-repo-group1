{
  "nbformat": 4,
  "nbformat_minor": 0,
  "metadata": {
    "colab": {
      "provenance": []
    },
    "kernelspec": {
      "name": "python3",
      "display_name": "Python 3"
    },
    "language_info": {
      "name": "python"
    }
  },
  "cells": [
    {
      "cell_type": "code",
      "execution_count": 7,
      "metadata": {
        "colab": {
          "base_uri": "https://localhost:8080/"
        },
        "id": "B-onukIg4Rv0",
        "outputId": "da8a0ab4-4d42-4373-e3f9-974f4f43a64c"
      },
      "outputs": [
        {
          "output_type": "stream",
          "name": "stdout",
          "text": [
            "enter a number: 56\n",
            "is it positive? True\n"
          ]
        }
      ],
      "source": [
        "num = int(input(\"enter a number: \"))\n",
        "if num>0:\n",
        "  positive=True\n",
        "else:\n",
        "  positive=False\n",
        "print(\"is it positive?\",positive)"
      ]
    },
    {
      "cell_type": "code",
      "source": [
        "print(positive)"
      ],
      "metadata": {
        "colab": {
          "base_uri": "https://localhost:8080/"
        },
        "id": "BB2z7iiT5B-f",
        "outputId": "cc13d1d9-bddc-4e44-aa23-a9d2e8703e25"
      },
      "execution_count": 8,
      "outputs": [
        {
          "output_type": "stream",
          "name": "stdout",
          "text": [
            "True\n"
          ]
        }
      ]
    },
    {
      "cell_type": "markdown",
      "source": [
        "* if age < 18 you cannot watch film\n",
        "* if age >=18 you can watch it\n",
        "*if you are over 60 you are a senior and you have a discount"
      ],
      "metadata": {
        "id": "R9QbCMqU5WVV"
      }
    },
    {
      "cell_type": "code",
      "source": [
        "age = int(input(\"enter your age: \"))\n",
        "if age<18:\n",
        "  watch = False\n",
        "else:\n",
        "  watch = True\n",
        "\n",
        "if age>=60:\n",
        "  senior = True\n",
        "print(age,watch,senior)"
      ],
      "metadata": {
        "colab": {
          "base_uri": "https://localhost:8080/"
        },
        "id": "MgFxyNjp5oGB",
        "outputId": "6a54e493-6338-45bb-ddc0-b1eafa1c3699"
      },
      "execution_count": 10,
      "outputs": [
        {
          "output_type": "stream",
          "name": "stdout",
          "text": [
            "enter your age: 65\n",
            "65 True True\n"
          ]
        }
      ]
    },
    {
      "cell_type": "markdown",
      "source": [
        "* if your score is less than 10 you fail\n",
        "* if 10-20 you pass\n",
        "* if > 15 distinction\n",
        "\n",
        "if you get a distinction you get an award !"
      ],
      "metadata": {
        "id": "4n1bC_vu6lkI"
      }
    },
    {
      "cell_type": "code",
      "source": [
        "#don't want to print\n",
        "#to remeber what we want (not just print it)\n",
        "score = int(input(\"Enter your score: \"))\n",
        "if score<10:\n",
        "  fail=True\n",
        "else:\n",
        "  fail=False\n",
        "if score>=15:\n",
        "  distinction=True\n",
        "else:\n",
        "  distinction=False\n",
        "\n",
        "print(score,fail,distinction)"
      ],
      "metadata": {
        "colab": {
          "base_uri": "https://localhost:8080/"
        },
        "id": "W7yFPVvc60wf",
        "outputId": "575b4cbb-0abf-436d-b3b7-a5d7ca966462"
      },
      "execution_count": 12,
      "outputs": [
        {
          "output_type": "stream",
          "name": "stdout",
          "text": [
            "enter your score: 8\n",
            "8 True False\n"
          ]
        }
      ]
    },
    {
      "cell_type": "markdown",
      "source": [
        "*if temp < 20 you turn on the heat\n",
        "* if the heat is on you close the windows\n",
        "* if the windows are closed, turn on the ventilation"
      ],
      "metadata": {
        "id": "bYekOU9i7rH7"
      }
    },
    {
      "cell_type": "code",
      "source": [
        "# Heat on = True and Heat off = False\n",
        "# Open windows = True and closed windows = False\n",
        "temp = int(input(\"Enter a temp: \"))\n",
        "\n",
        "if temp<20:\n",
        "  heat=True\n",
        "else:\n",
        "  heat=False\n",
        "\n",
        "if heat==True:\n",
        "  closed_windows=True\n",
        "else:\n",
        "  closed_windows=False\n",
        "\n",
        "if closed_windows==True:\n",
        "  ventilation=True\n",
        "else:\n",
        "  ventilation=True\n",
        "\n",
        "print(temp,heat, closed_windows, ventilation)"
      ],
      "metadata": {
        "colab": {
          "base_uri": "https://localhost:8080/"
        },
        "id": "j-H3IPeg75bw",
        "outputId": "ceb8fb0b-972b-4d47-e82b-56ba860f6a63"
      },
      "execution_count": 14,
      "outputs": [
        {
          "output_type": "stream",
          "name": "stdout",
          "text": [
            "Enter a temp: 45\n",
            "45 False False True\n"
          ]
        }
      ]
    },
    {
      "cell_type": "code",
      "source": [
        "# List\n",
        "# we start at 0 -> [0]\n",
        "# to extract Mary and Tom -> [0:2] (2 is not included)\n",
        "students = ['Mary','Tom','Stelios','Kate']\n",
        "scores = [15,12,9,18]\n",
        "\n",
        "print(students[0:2])\n",
        "print(scores)"
      ],
      "metadata": {
        "colab": {
          "base_uri": "https://localhost:8080/"
        },
        "id": "C2u0r9Wk9U7f",
        "outputId": "e9d71706-2d1c-4953-a1e8-93a72726835d"
      },
      "execution_count": 22,
      "outputs": [
        {
          "output_type": "stream",
          "name": "stdout",
          "text": [
            "['Mary', 'Tom']\n",
            "[15, 12, 9, 18]\n"
          ]
        }
      ]
    },
    {
      "cell_type": "code",
      "source": [
        "score[0]\n",
        "score[-1]\n",
        "score[1:3]"
      ],
      "metadata": {
        "colab": {
          "base_uri": "https://localhost:8080/"
        },
        "id": "kcczUjts-zAg",
        "outputId": "38fd27bd-498e-4de8-d59c-d68972060b94"
      },
      "execution_count": 23,
      "outputs": [
        {
          "output_type": "execute_result",
          "data": {
            "text/plain": [
              "[12, 9]"
            ]
          },
          "metadata": {},
          "execution_count": 23
        }
      ]
    },
    {
      "cell_type": "code",
      "source": [
        "numbers = [10,20,30,40,50,60,70,80,90]\n",
        "\n",
        "#print -> 20\n",
        "#print -> 80\n",
        "#print -> 10,20,30\n",
        "#print the last 3 elements\n",
        "#print -> 50,60\n",
        "\n",
        "print(numbers[1])\n",
        "print(numbers[7])\n",
        "print(numbers[0:3])\n",
        "print(numbers[-3:]) #to the end (no 0)\n",
        "print(numbers[4:6])"
      ],
      "metadata": {
        "colab": {
          "base_uri": "https://localhost:8080/"
        },
        "id": "tW4bWZHi-85D",
        "outputId": "35a2bf66-473d-4369-991f-a4af72c01e35"
      },
      "execution_count": 32,
      "outputs": [
        {
          "output_type": "stream",
          "name": "stdout",
          "text": [
            "20\n",
            "80\n",
            "[10, 20, 30]\n",
            "[70, 80, 90]\n",
            "[50, 60]\n"
          ]
        }
      ]
    }
  ]
}