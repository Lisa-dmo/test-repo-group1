{
  "nbformat": 4,
  "nbformat_minor": 0,
  "metadata": {
    "colab": {
      "provenance": []
    },
    "kernelspec": {
      "name": "python3",
      "display_name": "Python 3"
    },
    "language_info": {
      "name": "python"
    }
  },
  "cells": [
    {
      "cell_type": "code",
      "execution_count": null,
      "metadata": {
        "colab": {
          "base_uri": "https://localhost:8080/"
        },
        "id": "OkK22dnXoXNW",
        "outputId": "b8c23247-3041-4055-a18a-e5c0f8890246"
      },
      "outputs": [
        {
          "output_type": "stream",
          "name": "stdout",
          "text": [
            "lisa\n"
          ]
        }
      ],
      "source": [
        "print(\"lisa\")\n"
      ]
    },
    {
      "cell_type": "code",
      "source": [
        "name = input(\"what is your name?\")\n",
        "print(\"hi\", name)"
      ],
      "metadata": {
        "colab": {
          "base_uri": "https://localhost:8080/"
        },
        "id": "Nt3mNzBaoy0R",
        "outputId": "8fe7bbd4-12ec-417a-a407-c8b7c3d23679"
      },
      "execution_count": null,
      "outputs": [
        {
          "output_type": "stream",
          "name": "stdout",
          "text": [
            "what is your name?lisa\n",
            "hi lisa\n"
          ]
        }
      ]
    },
    {
      "cell_type": "code",
      "source": [
        "num = float(input(\"enter a number:\"))\n",
        "print (num*5)\n"
      ],
      "metadata": {
        "colab": {
          "base_uri": "https://localhost:8080/"
        },
        "id": "JvSi6dJvo6lG",
        "outputId": "708e9021-c3ff-42d0-ed9b-8d94e224b2b2"
      },
      "execution_count": null,
      "outputs": [
        {
          "output_type": "stream",
          "name": "stdout",
          "text": [
            "enter a number:5.33\n",
            "26.65\n"
          ]
        }
      ]
    },
    {
      "cell_type": "code",
      "source": [
        "num = float(input(\"enter a number: \"))\n",
        "if num>0:\n",
        "  print(\"positive\")\n",
        "else:\n",
        "  print(\"negative\")\n"
      ],
      "metadata": {
        "colab": {
          "base_uri": "https://localhost:8080/"
        },
        "id": "xzbyTxCPpKYC",
        "outputId": "6ffdff6e-5c8d-4c6b-9f2f-1251a7169c6e"
      },
      "execution_count": null,
      "outputs": [
        {
          "output_type": "stream",
          "name": "stdout",
          "text": [
            "enter a number: 5\n",
            "positive\n"
          ]
        }
      ]
    },
    {
      "cell_type": "code",
      "source": [
        "# != means not equal\n",
        "x = int(input(\"enter a number: \"))\n",
        "operation = input(\"enter an operation (+,-,*,/, **): \")\n",
        "y = int(input(\"enter a number: \"))\n",
        "\n",
        "if operation==\"+\":\n",
        "  print(x+y)\n",
        "elif operation==\"-\":\n",
        "  print(x-y)\n",
        "elif operation==\"*\":\n",
        "  print(x*y)\n",
        "elif operation==\"**\":\n",
        "  print(x**y)\n",
        "elif operation==\"/\" and y!=0:\n",
        "  print(x/y)\n",
        "else:\n",
        "  print(\"I do not support this operation!\")\n",
        "\n",
        "\n"
      ],
      "metadata": {
        "colab": {
          "base_uri": "https://localhost:8080/"
        },
        "id": "EA-JFNGgpiXK",
        "outputId": "67396ea2-1b40-422c-8462-e91a71412cbd"
      },
      "execution_count": null,
      "outputs": [
        {
          "output_type": "stream",
          "name": "stdout",
          "text": [
            "enter a number: 4\n",
            "enter an operation (+,-,*,/, **): **\n",
            "enter a number: 2\n",
            "16\n"
          ]
        }
      ]
    },
    {
      "cell_type": "markdown",
      "source": [
        "Ask the user to enter a number.\n",
        "If the number is between 0 and 1 print the percentage of the number. In any other case print, please enter a number between 0 and 1."
      ],
      "metadata": {
        "id": "HTiljptxr5Sq"
      }
    },
    {
      "cell_type": "code",
      "source": [
        "num = float(input(\"enter a number: \"))\n",
        "if num>=0 and num<=1:\n",
        "  print(\"percentage is\",num*100, \"%\")\n",
        "else:\n",
        "  print(\"i cannot do it!\")"
      ],
      "metadata": {
        "colab": {
          "base_uri": "https://localhost:8080/"
        },
        "id": "owmgW22Krd71",
        "outputId": "68f94680-e9fe-4fa6-8243-c1ce6a2c97f2"
      },
      "execution_count": null,
      "outputs": [
        {
          "output_type": "stream",
          "name": "stdout",
          "text": [
            "enter a number: 0.4\n",
            "percentage is 40.0 %\n"
          ]
        }
      ]
    },
    {
      "cell_type": "code",
      "source": [
        "text = \"my name is Stelios and I live in London\"\n",
        "print(text)"
      ],
      "metadata": {
        "colab": {
          "base_uri": "https://localhost:8080/"
        },
        "id": "WYdqomnZtOTe",
        "outputId": "59ad5343-06fc-45c1-90d4-98d8d7fe58fb"
      },
      "execution_count": null,
      "outputs": [
        {
          "output_type": "stream",
          "name": "stdout",
          "text": [
            "my name is Stelios and I live in London\n"
          ]
        }
      ]
    },
    {
      "cell_type": "code",
      "source": [
        "print(text[0])\n"
      ],
      "metadata": {
        "colab": {
          "base_uri": "https://localhost:8080/"
        },
        "id": "bUQB22Oxt0Z_",
        "outputId": "de9c9987-8624-46ec-e317-892b354d22e3"
      },
      "execution_count": null,
      "outputs": [
        {
          "output_type": "stream",
          "name": "stdout",
          "text": [
            "m\n"
          ]
        }
      ]
    },
    {
      "cell_type": "code",
      "source": [
        "text = \"my name is Lisa and I live in London\"\n",
        "print(text[-6])\n"
      ],
      "metadata": {
        "colab": {
          "base_uri": "https://localhost:8080/"
        },
        "id": "OFwGVPy8uN1k",
        "outputId": "794b3192-abb3-43d9-cf75-dfcba8dc9fa5"
      },
      "execution_count": null,
      "outputs": [
        {
          "output_type": "stream",
          "name": "stdout",
          "text": [
            "L\n"
          ]
        }
      ]
    },
    {
      "cell_type": "code",
      "source": [
        "print(text[3:7])"
      ],
      "metadata": {
        "colab": {
          "base_uri": "https://localhost:8080/"
        },
        "id": "agxuAyB9umwT",
        "outputId": "a67b0fd5-8c0b-45d2-f3ee-1e1714a79f08"
      },
      "execution_count": null,
      "outputs": [
        {
          "output_type": "stream",
          "name": "stdout",
          "text": [
            "name\n"
          ]
        }
      ]
    },
    {
      "cell_type": "code",
      "source": [
        "# [0:3] you extract 0,1,2\n",
        "city = \"london\"\n",
        "print(city[0:3])"
      ],
      "metadata": {
        "colab": {
          "base_uri": "https://localhost:8080/"
        },
        "id": "W-zTNs9pu381",
        "outputId": "277c8a21-ee70-4550-9f0b-1ec53c3d68d9"
      },
      "execution_count": null,
      "outputs": [
        {
          "output_type": "stream",
          "name": "stdout",
          "text": [
            "lon\n"
          ]
        }
      ]
    },
    {
      "cell_type": "code",
      "source": [
        "# text[3]-> element 4\n",
        "# text[-1]-> last one\n",
        "#text[0:3]->0,1,2\n",
        "#text[-4:]-> last 4\n",
        "\n",
        "text = \"my name is Lisa and I live in London\"\n",
        "print(text[-6:])"
      ],
      "metadata": {
        "colab": {
          "base_uri": "https://localhost:8080/"
        },
        "id": "aKCWDQDVvkWr",
        "outputId": "3d83420d-edba-4d28-b286-baa1184fd1ee"
      },
      "execution_count": null,
      "outputs": [
        {
          "output_type": "stream",
          "name": "stdout",
          "text": [
            "London\n"
          ]
        }
      ]
    },
    {
      "cell_type": "markdown",
      "source": [
        "ask the user to enter a city.\n",
        "if the user enters a city starting with L capital, print \"starts with L capital\" else print something else.\n"
      ],
      "metadata": {
        "id": "42l6SFGuxA9n"
      }
    },
    {
      "cell_type": "code",
      "source": [
        "city = input(\"enter a city\")\n",
        "if city[0]==\"L\":\n",
        "  print(\"starts with L capital\")\n",
        "else:\n",
        "  print(\"yes\")"
      ],
      "metadata": {
        "colab": {
          "base_uri": "https://localhost:8080/"
        },
        "id": "Ci9OVWaIxROO",
        "outputId": "719fd309-804b-4b55-b608-70bd62f05faf"
      },
      "execution_count": null,
      "outputs": [
        {
          "output_type": "stream",
          "name": "stdout",
          "text": [
            "enter a cityLondon\n",
            "starts with L capital\n"
          ]
        }
      ]
    },
    {
      "cell_type": "markdown",
      "source": [
        "ask the user to enter a phrase. if the phrase doesnt finish with dot (.) say, you need a dot! else say all good!\n",
        "London is the capital of UK"
      ],
      "metadata": {
        "id": "G0WjfZh6x4Of"
      }
    },
    {
      "cell_type": "code",
      "source": [
        "phrase : input(\"enter a phrase\": )\n",
        "if phrase[-1]!=\".\":\n",
        "  print(\"you need a dot !\")\n",
        "else:\n",
        "  print(\"all good!\")"
      ],
      "metadata": {
        "colab": {
          "base_uri": "https://localhost:8080/",
          "height": 105
        },
        "id": "IXRP550RyDuc",
        "outputId": "d2ae3806-eef2-4e90-beba-08c8545f00c1"
      },
      "execution_count": null,
      "outputs": [
        {
          "output_type": "error",
          "ename": "SyntaxError",
          "evalue": "invalid syntax (<ipython-input-34-00c44fd6774f>, line 1)",
          "traceback": [
            "\u001b[0;36m  File \u001b[0;32m\"<ipython-input-34-00c44fd6774f>\"\u001b[0;36m, line \u001b[0;32m1\u001b[0m\n\u001b[0;31m    phrase : input(\"enter a phrase\": )\u001b[0m\n\u001b[0m                                   ^\u001b[0m\n\u001b[0;31mSyntaxError\u001b[0m\u001b[0;31m:\u001b[0m invalid syntax\n"
          ]
        }
      ]
    }
  ]
}